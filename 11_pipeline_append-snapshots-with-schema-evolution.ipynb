{
 "cells": [
  {
   "cell_type": "markdown",
   "id": "a9b98fdf-a546-4716-8651-f0bb1e2268df",
   "metadata": {},
   "source": [
    "# WIP - Pipeline - Append snapshots with schema evolution\n",
    "\n",
    "## Links\n",
    "https://www.databricks.com/blog/2022/06/24/data-warehousing-modeling-techniques-and-their-implementation-on-the-databricks-lakehouse-platform.html"
   ]
  },
  {
   "cell_type": "markdown",
   "id": "63f26bdb-dea9-4ca6-964d-db0fac12a832",
   "metadata": {},
   "source": [
    "## Setup"
   ]
  },
  {
   "cell_type": "code",
   "execution_count": 2,
   "id": "ea85208d-d815-4027-8faa-113b3b596358",
   "metadata": {},
   "outputs": [],
   "source": [
    "%reload_ext autoreload\n",
    "%autoreload 2"
   ]
  },
  {
   "cell_type": "code",
   "execution_count": 8,
   "id": "326d3678-a5d3-4a30-bdd2-7beab92b93e5",
   "metadata": {},
   "outputs": [],
   "source": [
    "from pathlib import Path \n",
    "from utils.data_generation import FakerProfileDataSnapshot\n",
    "\n",
    "from pyspark.sql import SparkSession\n",
    "from  pyspark.sql.functions import input_file_name, split, regexp_extract"
   ]
  },
  {
   "cell_type": "code",
   "execution_count": 4,
   "id": "f82bf77f-3fb9-4dbf-a451-1550343ea3d5",
   "metadata": {},
   "outputs": [],
   "source": [
    "from delta import *"
   ]
  },
  {
   "cell_type": "code",
   "execution_count": 5,
   "id": "a1f189af-eaca-4a99-b007-d8c6d9c02585",
   "metadata": {},
   "outputs": [],
   "source": [
    "from pyspark.sql import SparkSession\n",
    "from delta import *\n",
    "\n",
    "builder = SparkSession.builder.appName(\"data-pipeline\") \\\n",
    "    .config(\"spark.sql.extensions\", \"io.delta.sql.DeltaSparkSessionExtension\") \\\n",
    "    .config(\"spark.sql.catalog.spark_catalog\", \"org.apache.spark.sql.delta.catalog.DeltaCatalog\")\n",
    "\n",
    "spark = configure_spark_with_delta_pip(builder).getOrCreate()"
   ]
  },
  {
   "cell_type": "code",
   "execution_count": 21,
   "id": "c7e713b6-a825-4ad9-9dae-bcb2939d99bc",
   "metadata": {},
   "outputs": [],
   "source": [
    "# object for data generation\n",
    "datagen = FakerProfileDataSnapshot(\n",
    "    data_dir=str(Path('./data').resolve())\n",
    ")\n",
    "# clean landing storage\n",
    "datagen.delete_batches_in_landing_dir()\n",
    "print(datagen.bronze_dir)\n",
    "datagen.delete_bronze_dir()"
   ]
  },
  {
   "cell_type": "markdown",
   "id": "ac16c51b-79d3-4cf9-aab6-a23d40ad59cb",
   "metadata": {
    "tags": []
   },
   "source": [
    "## Parameters"
   ]
  },
  {
   "cell_type": "code",
   "execution_count": 22,
   "id": "e66bf4a8-22e4-41b1-b37e-e891f78dc808",
   "metadata": {},
   "outputs": [],
   "source": [
    "read_csv_options = {'header': 'true', 'inferSchema': 'true', 'delimiter': ',', 'quote': '\"', 'multiLine': 'true'}"
   ]
  },
  {
   "cell_type": "code",
   "execution_count": 26,
   "id": "942cf7d2-44f0-4519-bf4e-2fc9a4284e01",
   "metadata": {},
   "outputs": [],
   "source": [
    "location_landing = datagen.landing_dir\n",
    "location_bronze = datagen.bronze_dir"
   ]
  },
  {
   "cell_type": "markdown",
   "id": "122bff8e-5bee-4901-b3fd-1e4287376130",
   "metadata": {},
   "source": [
    "## Pipeline\n",
    "\n",
    "### Land new data"
   ]
  },
  {
   "cell_type": "code",
   "execution_count": 37,
   "id": "7bc191cc-c618-4da0-bb98-9fcc19fc249d",
   "metadata": {},
   "outputs": [
    {
     "data": {
      "text/plain": [
       "'/home/jovyan/work/data/landing/snapshot_2022-08-19.csv'"
      ]
     },
     "execution_count": 37,
     "metadata": {},
     "output_type": "execute_result"
    }
   ],
   "source": [
    "path_csv = datagen.land_batch(1)\n",
    "path_csv"
   ]
  },
  {
   "cell_type": "markdown",
   "id": "da783eec-67e9-4e9a-ba3a-cb059a01c69f",
   "metadata": {
    "tags": []
   },
   "source": [
    "### Ingest data from landing into bronze layer"
   ]
  },
  {
   "cell_type": "code",
   "execution_count": 27,
   "id": "a021a771-6d02-470d-b254-4d55f7023ec9",
   "metadata": {},
   "outputs": [
    {
     "name": "stdout",
     "output_type": "stream",
     "text": [
      "0 /home/jovyan/work/data/landing/snapshot_2022-08-19.csv\n"
     ]
    },
    {
     "data": {
      "text/html": [
       "<div>\n",
       "<style scoped>\n",
       "    .dataframe tbody tr th:only-of-type {\n",
       "        vertical-align: middle;\n",
       "    }\n",
       "\n",
       "    .dataframe tbody tr th {\n",
       "        vertical-align: top;\n",
       "    }\n",
       "\n",
       "    .dataframe thead th {\n",
       "        text-align: right;\n",
       "    }\n",
       "</style>\n",
       "<table border=\"1\" class=\"dataframe\">\n",
       "  <thead>\n",
       "    <tr style=\"text-align: right;\">\n",
       "      <th></th>\n",
       "      <th>id</th>\n",
       "      <th>job</th>\n",
       "      <th>company</th>\n",
       "      <th>name</th>\n",
       "      <th>sex</th>\n",
       "      <th>address</th>\n",
       "      <th>mail</th>\n",
       "      <th>birthdate</th>\n",
       "      <th>_delivery</th>\n",
       "    </tr>\n",
       "  </thead>\n",
       "  <tbody>\n",
       "    <tr>\n",
       "      <th>0</th>\n",
       "      <td>0</td>\n",
       "      <td>Contractor</td>\n",
       "      <td>Boone, Gallagher and Scott</td>\n",
       "      <td>Misty Phillips</td>\n",
       "      <td>F</td>\n",
       "      <td>4978 Chapman Bypass\\nSanchezfurt, TN 23177</td>\n",
       "      <td>ana51@yahoo.com</td>\n",
       "      <td>1996-12-15</td>\n",
       "      <td>2022-08-19</td>\n",
       "    </tr>\n",
       "    <tr>\n",
       "      <th>1</th>\n",
       "      <td>1</td>\n",
       "      <td>Rural practice surveyor</td>\n",
       "      <td>Osborne PLC</td>\n",
       "      <td>Alfred Hall</td>\n",
       "      <td>M</td>\n",
       "      <td>11070 Wright Creek Apt. 541\\nEast Jonathan, TN...</td>\n",
       "      <td>shawn57@yahoo.com</td>\n",
       "      <td>1922-02-28</td>\n",
       "      <td>2022-08-19</td>\n",
       "    </tr>\n",
       "    <tr>\n",
       "      <th>2</th>\n",
       "      <td>2</td>\n",
       "      <td>Aeronautical engineer</td>\n",
       "      <td>Hughes-Fisher</td>\n",
       "      <td>Teresa Manning</td>\n",
       "      <td>F</td>\n",
       "      <td>397 Maria Ways\\nSouth Jamesville, OK 88863</td>\n",
       "      <td>fvargas@gmail.com</td>\n",
       "      <td>1997-04-03</td>\n",
       "      <td>2022-08-19</td>\n",
       "    </tr>\n",
       "    <tr>\n",
       "      <th>3</th>\n",
       "      <td>3</td>\n",
       "      <td>Newspaper journalist</td>\n",
       "      <td>Gordon-Smith</td>\n",
       "      <td>Kyle Randall</td>\n",
       "      <td>M</td>\n",
       "      <td>98150 Jones Way Apt. 251\\nJonesside, OK 11215</td>\n",
       "      <td>michael49@hotmail.com</td>\n",
       "      <td>1922-03-06</td>\n",
       "      <td>2022-08-19</td>\n",
       "    </tr>\n",
       "  </tbody>\n",
       "</table>\n",
       "</div>"
      ],
      "text/plain": [
       "   id                      job                     company            name  \\\n",
       "0   0               Contractor  Boone, Gallagher and Scott  Misty Phillips   \n",
       "1   1  Rural practice surveyor                 Osborne PLC     Alfred Hall   \n",
       "2   2    Aeronautical engineer               Hughes-Fisher  Teresa Manning   \n",
       "3   3     Newspaper journalist                Gordon-Smith    Kyle Randall   \n",
       "\n",
       "  sex                                            address  \\\n",
       "0   F         4978 Chapman Bypass\\nSanchezfurt, TN 23177   \n",
       "1   M  11070 Wright Creek Apt. 541\\nEast Jonathan, TN...   \n",
       "2   F         397 Maria Ways\\nSouth Jamesville, OK 88863   \n",
       "3   M      98150 Jones Way Apt. 251\\nJonesside, OK 11215   \n",
       "\n",
       "                    mail   birthdate   _delivery  \n",
       "0        ana51@yahoo.com  1996-12-15  2022-08-19  \n",
       "1      shawn57@yahoo.com  1922-02-28  2022-08-19  \n",
       "2      fvargas@gmail.com  1997-04-03  2022-08-19  \n",
       "3  michael49@hotmail.com  1922-03-06  2022-08-19  "
      ]
     },
     "execution_count": 27,
     "metadata": {},
     "output_type": "execute_result"
    }
   ],
   "source": [
    "# read all csv files of the landing folder into a spark dataframes\n",
    "# supports different schemas by unionByName\n",
    "# adds \n",
    "\n",
    "file_list = list(Path(location_landing).glob('*.csv'))\n",
    "file_list\n",
    "\n",
    "for i, file in enumerate(file_list):\n",
    "    print(i, file)\n",
    "    if i == 0:\n",
    "        df = spark.read.format('csv').options(**read_csv_options).load(str(file)) \\\n",
    "            .withColumn(\"_delivery\", regexp_extract(input_file_name(), '.*_(.*).csv$', 1))\n",
    "    else:\n",
    "        df = df.unionByName(\n",
    "            spark.read.format('csv').options(**read_csv_options).load(str(file)) \\\n",
    "                .withColumn(\"_delivery\", regexp_extract(input_file_name(), '.*_(.*).csv$', 1)),\n",
    "            allowMissingColumns=True\n",
    "        )\n",
    "df.toPandas()"
   ]
  },
  {
   "cell_type": "code",
   "execution_count": 28,
   "id": "1a8c1b3b-00cf-4397-98ae-8d9bc3a46ada",
   "metadata": {},
   "outputs": [],
   "source": [
    "df.write.format('delta').mode('append').save(location_bronze)"
   ]
  },
  {
   "cell_type": "code",
   "execution_count": 33,
   "id": "56f6edae-e71b-4682-a15e-86b98dbdf1b7",
   "metadata": {},
   "outputs": [
    {
     "data": {
      "text/plain": [
       "DataFrame[]"
      ]
     },
     "execution_count": 33,
     "metadata": {},
     "output_type": "execute_result"
    }
   ],
   "source": [
    "spark.sql('DROP TABLE IF EXISTS bronze_data')\n",
    "spark.sql(f'CREATE TABLE IF NOT EXISTS bronze_data USING DELTA LOCATION \"{location_bronze}\"')"
   ]
  },
  {
   "cell_type": "code",
   "execution_count": 35,
   "id": "000c8371-fe81-47c0-a275-40689ae0a882",
   "metadata": {},
   "outputs": [
    {
     "data": {
      "text/html": [
       "<div>\n",
       "<style scoped>\n",
       "    .dataframe tbody tr th:only-of-type {\n",
       "        vertical-align: middle;\n",
       "    }\n",
       "\n",
       "    .dataframe tbody tr th {\n",
       "        vertical-align: top;\n",
       "    }\n",
       "\n",
       "    .dataframe thead th {\n",
       "        text-align: right;\n",
       "    }\n",
       "</style>\n",
       "<table border=\"1\" class=\"dataframe\">\n",
       "  <thead>\n",
       "    <tr style=\"text-align: right;\">\n",
       "      <th></th>\n",
       "      <th>version</th>\n",
       "      <th>timestamp</th>\n",
       "      <th>userId</th>\n",
       "      <th>userName</th>\n",
       "      <th>operation</th>\n",
       "      <th>operationParameters</th>\n",
       "      <th>job</th>\n",
       "      <th>notebook</th>\n",
       "      <th>clusterId</th>\n",
       "      <th>readVersion</th>\n",
       "      <th>isolationLevel</th>\n",
       "      <th>isBlindAppend</th>\n",
       "      <th>operationMetrics</th>\n",
       "      <th>userMetadata</th>\n",
       "      <th>engineInfo</th>\n",
       "    </tr>\n",
       "  </thead>\n",
       "  <tbody>\n",
       "    <tr>\n",
       "      <th>0</th>\n",
       "      <td>0</td>\n",
       "      <td>2022-08-15 14:16:21.628</td>\n",
       "      <td>None</td>\n",
       "      <td>None</td>\n",
       "      <td>WRITE</td>\n",
       "      <td>{'mode': 'Append', 'partitionBy': '[]'}</td>\n",
       "      <td>None</td>\n",
       "      <td>None</td>\n",
       "      <td>None</td>\n",
       "      <td>NaN</td>\n",
       "      <td>Serializable</td>\n",
       "      <td>True</td>\n",
       "      <td>{'numOutputRows': '4', 'numOutputBytes': '3333...</td>\n",
       "      <td>None</td>\n",
       "      <td>Apache-Spark/3.2.1 Delta-Lake/2.0.0</td>\n",
       "    </tr>\n",
       "  </tbody>\n",
       "</table>\n",
       "</div>"
      ],
      "text/plain": [
       "   version               timestamp userId userName operation  \\\n",
       "0        0 2022-08-15 14:16:21.628   None     None     WRITE   \n",
       "\n",
       "                       operationParameters   job notebook clusterId  \\\n",
       "0  {'mode': 'Append', 'partitionBy': '[]'}  None     None      None   \n",
       "\n",
       "   readVersion isolationLevel  isBlindAppend  \\\n",
       "0          NaN   Serializable           True   \n",
       "\n",
       "                                    operationMetrics userMetadata  \\\n",
       "0  {'numOutputRows': '4', 'numOutputBytes': '3333...         None   \n",
       "\n",
       "                            engineInfo  \n",
       "0  Apache-Spark/3.2.1 Delta-Lake/2.0.0  "
      ]
     },
     "execution_count": 35,
     "metadata": {},
     "output_type": "execute_result"
    }
   ],
   "source": [
    "spark.sql(f'DESCRIBE HISTORY bronze_data').toPandas()"
   ]
  },
  {
   "cell_type": "markdown",
   "id": "93dcf8ee-2b70-496e-aa23-4f7e96826c2b",
   "metadata": {},
   "source": [
    "### Remove processed files from landing"
   ]
  },
  {
   "cell_type": "code",
   "execution_count": 38,
   "id": "1702b0c3-2d6f-4d18-9510-c4cc969bb682",
   "metadata": {},
   "outputs": [],
   "source": [
    "datagen.delete_batches_in_landing_dir()"
   ]
  },
  {
   "cell_type": "markdown",
   "id": "73bd7ac2-40a7-4f45-aa34-6a7795e52f63",
   "metadata": {},
   "source": [
    "### Build silver layer"
   ]
  },
  {
   "cell_type": "code",
   "execution_count": null,
   "id": "eec7e66a-6bd0-476e-9ed2-a9cd4de6f763",
   "metadata": {},
   "outputs": [],
   "source": []
  },
  {
   "cell_type": "markdown",
   "id": "b424cb11-9387-477d-adf1-e11e7296799b",
   "metadata": {},
   "source": [
    "### Build gold layer"
   ]
  },
  {
   "cell_type": "code",
   "execution_count": null,
   "id": "6f95165f-5363-46e5-aba1-e9e8069b9e52",
   "metadata": {},
   "outputs": [],
   "source": []
  }
 ],
 "metadata": {
  "kernelspec": {
   "display_name": "Python 3 (ipykernel)",
   "language": "python",
   "name": "python3"
  },
  "language_info": {
   "codemirror_mode": {
    "name": "ipython",
    "version": 3
   },
   "file_extension": ".py",
   "mimetype": "text/x-python",
   "name": "python",
   "nbconvert_exporter": "python",
   "pygments_lexer": "ipython3",
   "version": "3.9.12"
  },
  "vscode": {
   "interpreter": {
    "hash": "916dbcbb3f70747c44a77c7bcd40155683ae19c65e1c03b4aa3499c5328201f1"
   }
  }
 },
 "nbformat": 4,
 "nbformat_minor": 5
}
