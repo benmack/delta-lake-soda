{
 "cells": [
  {
   "cell_type": "markdown",
   "id": "58351bb6-f08e-4412-af6f-ca16a7719caf",
   "metadata": {},
   "source": [
    "# Test delta and soda"
   ]
  },
  {
   "cell_type": "markdown",
   "id": "4f0382e7-2bc5-42a2-9aa4-b74262928081",
   "metadata": {},
   "source": [
    "## Test delta"
   ]
  },
  {
   "cell_type": "code",
   "execution_count": 1,
   "id": "224aefd9-413e-4327-986a-1642b397f217",
   "metadata": {},
   "outputs": [],
   "source": [
    "from pyspark.sql import SparkSession\n",
    "from delta import *\n",
    "\n",
    "builder = SparkSession.builder.appName(\"MyApp\")\n",
    "    # # this is needed if not setup in dockerfile\n",
    "    # \\\n",
    "    # .config(\"spark.sql.extensions\", \"io.delta.sql.DeltaSparkSessionExtension\") \\\n",
    "    # .config(\"spark.sql.catalog.spark_catalog\", \"org.apache.spark.sql.delta.catalog.DeltaCatalog\")\n",
    "\n",
    "spark = configure_spark_with_delta_pip(builder).getOrCreate()\n",
    "data = spark.range(0, 5)\n",
    "data.write.format(\"delta\").mode('overwrite').save(\"/home/jovyan/work/temp/delta-table\")\n"
   ]
  },
  {
   "cell_type": "markdown",
   "id": "681de79b-defd-45f1-b8ed-b243f17f56a9",
   "metadata": {
    "tags": []
   },
   "source": [
    "## Test soda-spark"
   ]
  },
  {
   "cell_type": "code",
   "execution_count": 2,
   "id": "44c14547-247b-4108-84f3-ef9c77aaef91",
   "metadata": {},
   "outputs": [
    {
     "data": {
      "text/plain": [
       "[Measurement(metric='schema', column_name=None, value=[{'name': 'id', 'type': 'string', 'dataType': 'string', 'nullable': True, 'logicalType': 'text', 'semanticType': 'text'}, {'name': 'name', 'type': 'string', 'dataType': 'string', 'nullable': True, 'logicalType': 'text', 'semanticType': 'text'}, {'name': 'size', 'type': 'bigint', 'dataType': 'bigint', 'nullable': True, 'logicalType': 'number', 'semanticType': 'number'}], group_values=None),\n",
       " Measurement(metric='row_count', column_name=None, value=2, group_values=None),\n",
       " Measurement(metric='values_count', column_name='id', value=2, group_values=None),\n",
       " Measurement(metric='valid_count', column_name='id', value=2, group_values=None),\n",
       " Measurement(metric='min_length', column_name='id', value=36, group_values=None),\n",
       " Measurement(metric='min_length', column_name='name', value=12, group_values=None),\n",
       " Measurement(metric='max', column_name='size', value=7243, group_values=None),\n",
       " Measurement(metric='missing_percentage', column_name='id', value=0.0, group_values=None),\n",
       " Measurement(metric='missing_count', column_name='id', value=0, group_values=None),\n",
       " Measurement(metric='values_percentage', column_name='id', value=100.0, group_values=None),\n",
       " Measurement(metric='invalid_percentage', column_name='id', value=0.0, group_values=None),\n",
       " Measurement(metric='invalid_count', column_name='id', value=0, group_values=None),\n",
       " Measurement(metric='valid_percentage', column_name='id', value=100.0, group_values=None)]"
      ]
     },
     "execution_count": 2,
     "metadata": {},
     "output_type": "execute_result"
    }
   ],
   "source": [
    "from sodaspark import scan\n",
    "\n",
    "\n",
    "id = \"a76824f0-50c0-11eb-8be8-88e9fe6293fd\"\n",
    "df = spark.createDataFrame([\n",
    "   \t   {\"id\": id, \"name\": \"Paula Landry\", \"size\": 3006},\n",
    "   \t   {\"id\": id, \"name\": \"Kevin Crawford\", \"size\": 7243}\n",
    "    ])\n",
    "\n",
    "scan_definition = (\"\"\"\n",
    "    table_name: demodata\n",
    "    metrics:\n",
    "    - row_count\n",
    "    - max\n",
    "    - min_length\n",
    "    tests:\n",
    "    - row_count > 0\n",
    "    columns:\n",
    "      id:\n",
    "        valid_format: uuid\n",
    "        tests:\n",
    "        - invalid_percentage == 0\n",
    "    \"\"\")\n",
    "\n",
    "scan_result = scan.execute(scan_definition, df)\n",
    "\n",
    "scan_result.measurements"
   ]
  },
  {
   "cell_type": "code",
   "execution_count": 3,
   "id": "ae579aa5-1b1d-4737-ac54-0f8536ce821d",
   "metadata": {},
   "outputs": [
    {
     "data": {
      "text/html": [
       "<div>\n",
       "<style scoped>\n",
       "    .dataframe tbody tr th:only-of-type {\n",
       "        vertical-align: middle;\n",
       "    }\n",
       "\n",
       "    .dataframe tbody tr th {\n",
       "        vertical-align: top;\n",
       "    }\n",
       "\n",
       "    .dataframe thead th {\n",
       "        text-align: right;\n",
       "    }\n",
       "</style>\n",
       "<table border=\"1\" class=\"dataframe\">\n",
       "  <thead>\n",
       "    <tr style=\"text-align: right;\">\n",
       "      <th></th>\n",
       "      <th>namespace</th>\n",
       "      <th>tableName</th>\n",
       "      <th>isTemporary</th>\n",
       "    </tr>\n",
       "  </thead>\n",
       "  <tbody>\n",
       "    <tr>\n",
       "      <th>0</th>\n",
       "      <td></td>\n",
       "      <td>demodata</td>\n",
       "      <td>True</td>\n",
       "    </tr>\n",
       "  </tbody>\n",
       "</table>\n",
       "</div>"
      ],
      "text/plain": [
       "  namespace tableName  isTemporary\n",
       "0            demodata         True"
      ]
     },
     "execution_count": 3,
     "metadata": {},
     "output_type": "execute_result"
    }
   ],
   "source": [
    "spark.sql('show tables').toPandas()"
   ]
  },
  {
   "cell_type": "code",
   "execution_count": 4,
   "id": "ec40cb69-3a93-47ac-8ef1-055f26eceb4f",
   "metadata": {},
   "outputs": [
    {
     "data": {
      "text/html": [
       "<div>\n",
       "<style scoped>\n",
       "    .dataframe tbody tr th:only-of-type {\n",
       "        vertical-align: middle;\n",
       "    }\n",
       "\n",
       "    .dataframe tbody tr th {\n",
       "        vertical-align: top;\n",
       "    }\n",
       "\n",
       "    .dataframe thead th {\n",
       "        text-align: right;\n",
       "    }\n",
       "</style>\n",
       "<table border=\"1\" class=\"dataframe\">\n",
       "  <thead>\n",
       "    <tr style=\"text-align: right;\">\n",
       "      <th></th>\n",
       "      <th>id</th>\n",
       "      <th>name</th>\n",
       "      <th>size</th>\n",
       "    </tr>\n",
       "  </thead>\n",
       "  <tbody>\n",
       "    <tr>\n",
       "      <th>0</th>\n",
       "      <td>a76824f0-50c0-11eb-8be8-88e9fe6293fd</td>\n",
       "      <td>Paula Landry</td>\n",
       "      <td>3006</td>\n",
       "    </tr>\n",
       "    <tr>\n",
       "      <th>1</th>\n",
       "      <td>a76824f0-50c0-11eb-8be8-88e9fe6293fd</td>\n",
       "      <td>Kevin Crawford</td>\n",
       "      <td>7243</td>\n",
       "    </tr>\n",
       "  </tbody>\n",
       "</table>\n",
       "</div>"
      ],
      "text/plain": [
       "                                     id            name  size\n",
       "0  a76824f0-50c0-11eb-8be8-88e9fe6293fd    Paula Landry  3006\n",
       "1  a76824f0-50c0-11eb-8be8-88e9fe6293fd  Kevin Crawford  7243"
      ]
     },
     "execution_count": 4,
     "metadata": {},
     "output_type": "execute_result"
    }
   ],
   "source": [
    "spark.sql('select * from demodata').toPandas()"
   ]
  },
  {
   "cell_type": "markdown",
   "id": "8420a565-5a5e-41ed-b9ba-29a0546d3a45",
   "metadata": {},
   "source": [
    "## Test soda-core-spark-df"
   ]
  },
  {
   "cell_type": "code",
   "execution_count": 5,
   "id": "00948da9-2428-4f8b-8cfa-b4c00eb9a795",
   "metadata": {},
   "outputs": [
    {
     "name": "stderr",
     "output_type": "stream",
     "text": [
      "Overriding of current TracerProvider is not allowed\n"
     ]
    }
   ],
   "source": [
    "from soda.scan import Scan"
   ]
  },
  {
   "cell_type": "code",
   "execution_count": 6,
   "id": "232b9f93-bdfe-45bf-9c18-408da1b4358d",
   "metadata": {},
   "outputs": [
    {
     "name": "stdout",
     "output_type": "stream",
     "text": [
      "root\n",
      " |-- count(1): long (nullable = false)\n",
      "\n",
      "+--------+\n",
      "|count(1)|\n",
      "+--------+\n",
      "|       2|\n",
      "+--------+\n",
      "\n"
     ]
    },
    {
     "data": {
      "text/plain": [
       "0"
      ]
     },
     "execution_count": 6,
     "metadata": {},
     "output_type": "execute_result"
    }
   ],
   "source": [
    "scan = Scan()\n",
    "scan.disable_telemetry()\n",
    "scan.set_data_source_name('demodata')\n",
    "scan.add_spark_session(spark, 'demodata')\n",
    "\n",
    "scan.add_sodacl_yaml_str('''\n",
    "checks for demodata:\n",
    "  - row_count > 0\n",
    "''')\n",
    "\n",
    "exit_code = scan.execute()\n",
    "exit_code                       "
   ]
  }
 ],
 "metadata": {
  "interpreter": {
   "hash": "916dbcbb3f70747c44a77c7bcd40155683ae19c65e1c03b4aa3499c5328201f1"
  },
  "kernelspec": {
   "display_name": "Python 3 (ipykernel)",
   "language": "python",
   "name": "python3"
  },
  "language_info": {
   "codemirror_mode": {
    "name": "ipython",
    "version": 3
   },
   "file_extension": ".py",
   "mimetype": "text/x-python",
   "name": "python",
   "nbconvert_exporter": "python",
   "pygments_lexer": "ipython3",
   "version": "3.9.12"
  }
 },
 "nbformat": 4,
 "nbformat_minor": 5
}
